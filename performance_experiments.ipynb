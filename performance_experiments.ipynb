{
 "cells": [
  {
   "cell_type": "code",
   "execution_count": 1,
   "id": "valid-valley",
   "metadata": {},
   "outputs": [],
   "source": [
    "from acdh_arche_pyutils.client import ArcheToTripleStore"
   ]
  },
  {
   "cell_type": "code",
   "execution_count": 3,
   "id": "centered-working",
   "metadata": {},
   "outputs": [],
   "source": [
    "endpoint = \"https://arche-dev.acdh-dev.oeaw.ac.at/api/\"\n",
    "triple_store = \"http://172.18.0.1:9999/blazegraph/sparql\"\n",
    "user = \"admin\"\n",
    "pw = \"admin\""
   ]
  },
  {
   "cell_type": "code",
   "execution_count": 4,
   "id": "appointed-borough",
   "metadata": {},
   "outputs": [
    {
     "name": "stdout",
     "output_type": "stream",
     "text": [
      "Fetching description for endpoint: https://arche-dev.acdh-dev.oeaw.ac.at/api/\n"
     ]
    }
   ],
   "source": [
    "client = ArcheToTripleStore(triple_store, user=user, pw=pw, arche_endpoint=endpoint)"
   ]
  },
  {
   "cell_type": "code",
   "execution_count": 5,
   "id": "ruled-harvard",
   "metadata": {},
   "outputs": [
    {
     "name": "stdout",
     "output_type": "stream",
     "text": [
      "fetching data for URI: https://arche-dev.acdh-dev.oeaw.ac.at/api/18293, calling endpoint \n",
      " https://arche-dev.acdh-dev.oeaw.ac.at/api/18293/metadata?readMode=relatives&parents[0]=https://vocabs.acdh.oeaw.ac.at/schema%23isPartOf&format=text/turtle\n",
      "fetching done in 4.175265284000034\n",
      "parsing done in 7.5954317730002\n",
      "CPU times: user 7.77 s, sys: 138 ms, total: 7.91 s\n",
      "Wall time: 11.8 s\n"
     ]
    },
    {
     "data": {
      "text/plain": [
       "<Graph identifier=N0650305bd3954859be8e99daeee67530 (<class 'rdflib.graph.Graph'>)>"
      ]
     },
     "execution_count": 5,
     "metadata": {},
     "output_type": "execute_result"
    }
   ],
   "source": [
    "%%time\n",
    "client.get_resource('https://arche-dev.acdh-dev.oeaw.ac.at/api/18293', format='ttl')"
   ]
  },
  {
   "cell_type": "code",
   "execution_count": 6,
   "id": "waiting-bunny",
   "metadata": {},
   "outputs": [
    {
     "name": "stdout",
     "output_type": "stream",
     "text": [
      "fetching data for URI: https://arche-dev.acdh-dev.oeaw.ac.at/api/18293, calling endpoint \n",
      " https://arche-dev.acdh-dev.oeaw.ac.at/api/18293/metadata?readMode=relatives&parents[0]=https://vocabs.acdh.oeaw.ac.at/schema%23isPartOf&format=text/turtle\n",
      "fetching done in 4.845593032000124\n",
      "parsing done in 7.497234129999924\n",
      "CPU times: user 7.65 s, sys: 124 ms, total: 7.78 s\n",
      "Wall time: 12.3 s\n"
     ]
    },
    {
     "data": {
      "text/plain": [
       "<Graph identifier=Na485ebbb6412429785fb7cee9931ceef (<class 'rdflib.graph.Graph'>)>"
      ]
     },
     "execution_count": 6,
     "metadata": {},
     "output_type": "execute_result"
    }
   ],
   "source": [
    "%%time\n",
    "client.get_resource('https://arche-dev.acdh-dev.oeaw.ac.at/api/18293', format='ttl')"
   ]
  },
  {
   "cell_type": "code",
   "execution_count": 7,
   "id": "threaded-hands",
   "metadata": {},
   "outputs": [
    {
     "name": "stdout",
     "output_type": "stream",
     "text": [
      "fetching data for URI: https://arche-dev.acdh-dev.oeaw.ac.at/api/18293, calling endpoint \n",
      " https://arche-dev.acdh-dev.oeaw.ac.at/api/18293/metadata?readMode=relatives&parents[0]=https://vocabs.acdh.oeaw.ac.at/schema%23isPartOf&format=text/turtle\n",
      "fetching done in 4.473933146000036\n",
      "parsing done in 8.950686208000207\n",
      "CPU times: user 9.05 s, sys: 116 ms, total: 9.16 s\n",
      "Wall time: 13.4 s\n"
     ]
    },
    {
     "data": {
      "text/plain": [
       "<Graph identifier=N43fc84a019e642bb8dfaa69d67b2bdd7 (<class 'rdflib.graph.Graph'>)>"
      ]
     },
     "execution_count": 7,
     "metadata": {},
     "output_type": "execute_result"
    }
   ],
   "source": [
    "%%time\n",
    "client.get_resource('https://arche-dev.acdh-dev.oeaw.ac.at/api/18293', format='ttl')"
   ]
  },
  {
   "cell_type": "code",
   "execution_count": 8,
   "id": "accessory-crown",
   "metadata": {},
   "outputs": [
    {
     "name": "stdout",
     "output_type": "stream",
     "text": [
      "fetching data for URI: https://arche-dev.acdh-dev.oeaw.ac.at/api/18293, calling endpoint \n",
      " https://arche-dev.acdh-dev.oeaw.ac.at/api/18293/metadata?readMode=relatives&parents[0]=https://vocabs.acdh.oeaw.ac.at/schema%23isPartOf&format=text/turtle\n",
      "fetching done in 4.043629473999772\n",
      "parsing done in 9.286694634000014\n",
      "CPU times: user 9.44 s, sys: 139 ms, total: 9.58 s\n",
      "Wall time: 13.3 s\n"
     ]
    },
    {
     "data": {
      "text/plain": [
       "<Graph identifier=Nf7163175559e4147801e15e7c521a435 (<class 'rdflib.graph.Graph'>)>"
      ]
     },
     "execution_count": 8,
     "metadata": {},
     "output_type": "execute_result"
    }
   ],
   "source": [
    "%%time\n",
    "client.get_resource('https://arche-dev.acdh-dev.oeaw.ac.at/api/18293', format='ttl')"
   ]
  },
  {
   "cell_type": "code",
   "execution_count": 9,
   "id": "temporal-massachusetts",
   "metadata": {},
   "outputs": [
    {
     "name": "stdout",
     "output_type": "stream",
     "text": [
      "fetching data for URI: https://arche-dev.acdh-dev.oeaw.ac.at/api/18293, calling endpoint \n",
      " https://arche-dev.acdh-dev.oeaw.ac.at/api/18293/metadata?readMode=relatives&parents[0]=https://vocabs.acdh.oeaw.ac.at/schema%23isPartOf&format=application/n-triples\n",
      "fetching done in 3.4747745280001254\n",
      "parsing done in 18.104486557999735\n",
      "CPU times: user 18.5 s, sys: 229 ms, total: 18.7 s\n",
      "Wall time: 21.6 s\n"
     ]
    },
    {
     "data": {
      "text/plain": [
       "<Graph identifier=N33b10359f6ec4c62ad1183abf87d0f80 (<class 'rdflib.graph.Graph'>)>"
      ]
     },
     "execution_count": 9,
     "metadata": {},
     "output_type": "execute_result"
    }
   ],
   "source": [
    "%%time\n",
    "client.get_resource('https://arche-dev.acdh-dev.oeaw.ac.at/api/18293', format='nt')"
   ]
  },
  {
   "cell_type": "code",
   "execution_count": 10,
   "id": "timely-korean",
   "metadata": {},
   "outputs": [
    {
     "name": "stdout",
     "output_type": "stream",
     "text": [
      "fetching data for URI: https://arche-dev.acdh-dev.oeaw.ac.at/api/18293, calling endpoint \n",
      " https://arche-dev.acdh-dev.oeaw.ac.at/api/18293/metadata?readMode=relatives&parents[0]=https://vocabs.acdh.oeaw.ac.at/schema%23isPartOf&format=application/n-triples\n",
      "fetching done in 2.224402288999954\n",
      "parsing done in 19.401331397000376\n",
      "CPU times: user 19.7 s, sys: 188 ms, total: 19.9 s\n",
      "Wall time: 21.6 s\n"
     ]
    },
    {
     "data": {
      "text/plain": [
       "<Graph identifier=Nc2a0ba42639c411abbc2c2e25b1fa563 (<class 'rdflib.graph.Graph'>)>"
      ]
     },
     "execution_count": 10,
     "metadata": {},
     "output_type": "execute_result"
    }
   ],
   "source": [
    "%%time\n",
    "client.get_resource('https://arche-dev.acdh-dev.oeaw.ac.at/api/18293', format='nt')"
   ]
  },
  {
   "cell_type": "code",
   "execution_count": 11,
   "id": "prescribed-andorra",
   "metadata": {},
   "outputs": [
    {
     "name": "stdout",
     "output_type": "stream",
     "text": [
      "fetching data for URI: https://arche-dev.acdh-dev.oeaw.ac.at/api/18293, calling endpoint \n",
      " https://arche-dev.acdh-dev.oeaw.ac.at/api/18293/metadata?readMode=relatives&parents[0]=https://vocabs.acdh.oeaw.ac.at/schema%23isPartOf&format=application/n-triples\n",
      "fetching done in 7.975748414000009\n",
      "parsing done in 18.656602112999735\n",
      "CPU times: user 19.1 s, sys: 203 ms, total: 19.3 s\n",
      "Wall time: 26.6 s\n"
     ]
    },
    {
     "data": {
      "text/plain": [
       "<Graph identifier=N29f332d7653b46eaaa2b39189469b9da (<class 'rdflib.graph.Graph'>)>"
      ]
     },
     "execution_count": 11,
     "metadata": {},
     "output_type": "execute_result"
    }
   ],
   "source": [
    "%%time\n",
    "client.get_resource('https://arche-dev.acdh-dev.oeaw.ac.at/api/18293', format='nt')"
   ]
  },
  {
   "cell_type": "code",
   "execution_count": 12,
   "id": "common-volume",
   "metadata": {},
   "outputs": [
    {
     "name": "stdout",
     "output_type": "stream",
     "text": [
      "fetching data for URI: https://arche-dev.acdh-dev.oeaw.ac.at/api/18293, calling endpoint \n",
      " https://arche-dev.acdh-dev.oeaw.ac.at/api/18293/metadata?readMode=relatives&parents[0]=https://vocabs.acdh.oeaw.ac.at/schema%23isPartOf&format=application/n-triples\n",
      "fetching done in 3.0673377200000687\n",
      "parsing done in 19.27039711799989\n",
      "CPU times: user 19.7 s, sys: 228 ms, total: 20 s\n",
      "Wall time: 22.3 s\n"
     ]
    },
    {
     "data": {
      "text/plain": [
       "<Graph identifier=N1797382929464d76997efdf9370c5406 (<class 'rdflib.graph.Graph'>)>"
      ]
     },
     "execution_count": 12,
     "metadata": {},
     "output_type": "execute_result"
    }
   ],
   "source": [
    "%%time\n",
    "client.get_resource('https://arche-dev.acdh-dev.oeaw.ac.at/api/18293', format='nt')"
   ]
  },
  {
   "cell_type": "code",
   "execution_count": 13,
   "id": "substantial-mineral",
   "metadata": {},
   "outputs": [
    {
     "name": "stdout",
     "output_type": "stream",
     "text": [
      "fetching data for URI: https://arche-dev.acdh-dev.oeaw.ac.at/api/18293, calling endpoint \n",
      " https://arche-dev.acdh-dev.oeaw.ac.at/api/18293/metadata?readMode=relatives&parents[0]=https://vocabs.acdh.oeaw.ac.at/schema%23isPartOf&format=application/n-triples\n",
      "fetching done in 7.104151380000076\n",
      "parsing done in 18.467020617000344\n",
      "CPU times: user 18.8 s, sys: 180 ms, total: 19 s\n",
      "Wall time: 25.6 s\n"
     ]
    },
    {
     "data": {
      "text/plain": [
       "<Graph identifier=N4d06344bbe5840559bad27fbed6d435e (<class 'rdflib.graph.Graph'>)>"
      ]
     },
     "execution_count": 13,
     "metadata": {},
     "output_type": "execute_result"
    }
   ],
   "source": [
    "%%time\n",
    "client.get_resource('https://arche-dev.acdh-dev.oeaw.ac.at/api/18293', format='nt')"
   ]
  },
  {
   "cell_type": "code",
   "execution_count": 14,
   "id": "several-amendment",
   "metadata": {},
   "outputs": [
    {
     "name": "stdout",
     "output_type": "stream",
     "text": [
      "fetching data for URI: https://arche-dev.acdh-dev.oeaw.ac.at/api/18293, calling endpoint \n",
      " https://arche-dev.acdh-dev.oeaw.ac.at/api/18293/metadata?readMode=relatives&parents[0]=https://vocabs.acdh.oeaw.ac.at/schema%23isPartOf&format=text/turtle\n",
      "fetching done in 4.4065188059998945\n",
      "parsing done in 8.127997864000008\n",
      "CPU times: user 8.24 s, sys: 128 ms, total: 8.37 s\n",
      "Wall time: 12.5 s\n"
     ]
    },
    {
     "data": {
      "text/plain": [
       "<Graph identifier=Na7703d16759744a7923efd651150d06a (<class 'rdflib.graph.Graph'>)>"
      ]
     },
     "execution_count": 14,
     "metadata": {},
     "output_type": "execute_result"
    }
   ],
   "source": [
    "%%time\n",
    "client.get_resource('https://arche-dev.acdh-dev.oeaw.ac.at/api/18293', format='ttl')"
   ]
  },
  {
   "cell_type": "code",
   "execution_count": 18,
   "id": "distributed-athens",
   "metadata": {},
   "outputs": [
    {
     "name": "stdout",
     "output_type": "stream",
     "text": [
      "CPU times: user 10.6 ms, sys: 8.03 ms, total: 18.7 ms\n",
      "Wall time: 56.1 ms\n"
     ]
    },
    {
     "data": {
      "text/plain": [
       "175417"
      ]
     },
     "execution_count": 18,
     "metadata": {},
     "output_type": "execute_result"
    }
   ],
   "source": [
    "%%time\n",
    "client.count_triples()"
   ]
  },
  {
   "cell_type": "code",
   "execution_count": 19,
   "id": "virtual-assessment",
   "metadata": {},
   "outputs": [
    {
     "name": "stdout",
     "output_type": "stream",
     "text": [
      "CPU times: user 5.03 ms, sys: 3.85 ms, total: 8.88 ms\n",
      "Wall time: 10.3 s\n"
     ]
    },
    {
     "name": "stderr",
     "output_type": "stream",
     "text": [
      "/home/csae8092/repos/mmp/env/lib/python3.8/site-packages/SPARQLWrapper/Wrapper.py:1346: RuntimeWarning: unknown response content type 'text/html;charset=utf-8' returning raw response...\n",
      "  warnings.warn(\"unknown response content type '%s' returning raw response...\" %(ct), RuntimeWarning)\n"
     ]
    },
    {
     "data": {
      "text/plain": [
       "b'<!DOCTYPE HTML PUBLIC \"-//W3C//DTD HTML 4.01 Transitional//EN\" \"http://www.w3.org/TR/html4/loose.dtd\"><html><head><meta http-equiv=\"Content-Type\" content=\"text&#47;html;charset=UTF-8\"><title>blazegraph&trade; by SYSTAP</title\\n></head\\n><body<p>totalElapsed=10294ms, elapsed=10294ms, connFlush=0ms, batchResolve=0, whereClause=671ms, deleteClause=9622ms, insertClause=671ms</p\\n><hr><p>COMMIT: totalElapsed=10305ms, commitTime=1615018871199, mutationCount=175417</p\\n></html\\n>'"
      ]
     },
     "execution_count": 19,
     "metadata": {},
     "output_type": "execute_result"
    }
   ],
   "source": [
    "%%time\n",
    "client.delete_triples()"
   ]
  },
  {
   "cell_type": "code",
   "execution_count": 21,
   "id": "binding-allergy",
   "metadata": {},
   "outputs": [
    {
     "name": "stderr",
     "output_type": "stream",
     "text": [
      "\r",
      "  0%|          | 0/3 [00:00<?, ?it/s]"
     ]
    },
    {
     "name": "stdout",
     "output_type": "stream",
     "text": [
      "fetching data for URI: https://arche-dev.acdh-dev.oeaw.ac.at/api/18293, calling endpoint \n",
      " https://arche-dev.acdh-dev.oeaw.ac.at/api/18293/metadata?readMode=relatives&parents[0]=https://vocabs.acdh.oeaw.ac.at/schema%23isPartOf&format=application/n-triples\n",
      "fetching done in 2.7995820000001004\n",
      "parsing done in 19.475287621999996\n"
     ]
    },
    {
     "name": "stderr",
     "output_type": "stream",
     "text": [
      "\r",
      " 33%|███▎      | 1/3 [00:33<01:06, 33.21s/it]"
     ]
    },
    {
     "name": "stdout",
     "output_type": "stream",
     "text": [
      "posting data for URI: https://arche-dev.acdh-dev.oeaw.ac.at/api/18293;                \n",
      " import response: \n",
      " [200, '<?xml version=\"1.0\"?><data modified=\"96774\" milliseconds=\"1764\"/>']\n",
      "fetching data for URI: https://arche-dev.acdh-dev.oeaw.ac.at/api/18243, calling endpoint \n",
      " https://arche-dev.acdh-dev.oeaw.ac.at/api/18243/metadata?readMode=relatives&parents[0]=https://vocabs.acdh.oeaw.ac.at/schema%23isPartOf&format=application/n-triples\n",
      "fetching done in 0.16286494199994195\n"
     ]
    },
    {
     "name": "stderr",
     "output_type": "stream",
     "text": [
      "\r",
      " 67%|██████▋   | 2/3 [00:33<00:14, 14.08s/it]"
     ]
    },
    {
     "name": "stdout",
     "output_type": "stream",
     "text": [
      "parsing done in 0.3535542730000998\n",
      "posting data for URI: https://arche-dev.acdh-dev.oeaw.ac.at/api/18243;                \n",
      " import response: \n",
      " [200, '<?xml version=\"1.0\"?><data modified=\"1165\" milliseconds=\"58\"/>']\n",
      "fetching data for URI: https://arche-dev.acdh-dev.oeaw.ac.at/api/18270, calling endpoint \n",
      " https://arche-dev.acdh-dev.oeaw.ac.at/api/18270/metadata?readMode=relatives&parents[0]=https://vocabs.acdh.oeaw.ac.at/schema%23isPartOf&format=application/n-triples\n",
      "fetching done in 2.8824843040001724\n",
      "parsing done in 16.505462425000132\n"
     ]
    },
    {
     "name": "stderr",
     "output_type": "stream",
     "text": [
      "100%|██████████| 3/3 [01:01<00:00, 20.66s/it]"
     ]
    },
    {
     "name": "stdout",
     "output_type": "stream",
     "text": [
      "posting data for URI: https://arche-dev.acdh-dev.oeaw.ac.at/api/18270;                \n",
      " import response: \n",
      " [200, '<?xml version=\"1.0\"?><data modified=\"78429\" milliseconds=\"1250\"/>']\n",
      "CPU times: user 53.8 s, sys: 436 ms, total: 54.2 s\n",
      "Wall time: 1min 2s\n"
     ]
    },
    {
     "name": "stderr",
     "output_type": "stream",
     "text": [
      "\n"
     ]
    },
    {
     "data": {
      "text/plain": [
       "'done'"
      ]
     },
     "execution_count": 21,
     "metadata": {},
     "output_type": "execute_result"
    }
   ],
   "source": [
    "%%time\n",
    "client.post_all_resources()"
   ]
  },
  {
   "cell_type": "code",
   "execution_count": 22,
   "id": "removable-queens",
   "metadata": {},
   "outputs": [
    {
     "name": "stdout",
     "output_type": "stream",
     "text": [
      "CPU times: user 2.29 ms, sys: 7.98 ms, total: 10.3 ms\n",
      "Wall time: 66.1 ms\n"
     ]
    },
    {
     "data": {
      "text/plain": [
       "175417"
      ]
     },
     "execution_count": 22,
     "metadata": {},
     "output_type": "execute_result"
    }
   ],
   "source": [
    "%%time\n",
    "client.count_triples()"
   ]
  }
 ],
 "metadata": {
  "kernelspec": {
   "display_name": "Python 3.8.5 64-bit ('env': venv)",
   "language": "python",
   "name": "python38564bitenvvenv46f3f1f637f345a6a12c74743c7102f0"
  },
  "language_info": {
   "codemirror_mode": {
    "name": "ipython",
    "version": 3
   },
   "file_extension": ".py",
   "mimetype": "text/x-python",
   "name": "python",
   "nbconvert_exporter": "python",
   "pygments_lexer": "ipython3",
   "version": "3.8.5"
  }
 },
 "nbformat": 4,
 "nbformat_minor": 5
}
